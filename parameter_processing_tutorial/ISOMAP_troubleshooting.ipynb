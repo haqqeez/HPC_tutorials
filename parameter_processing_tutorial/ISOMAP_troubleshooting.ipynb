{
 "cells": [
  {
   "cell_type": "code",
   "execution_count": 1,
   "id": "08845a94-8b9b-4876-9cc0-3dc2329fc9da",
   "metadata": {},
   "outputs": [],
   "source": [
    "import numpy as np\n",
    "import matplotlib.pyplot as plt\n",
    "import pandas as pd\n",
    "import glob\n",
    "import os\n",
    "import time\n",
    "import itertools\n",
    "\n",
    "# UMAP\n",
    "# import umap\n",
    "\n",
    "# ISOMAP\n",
    "from sklearn.manifold import Isomap\n",
    "\n",
    "from mpl_toolkits.mplot3d import Axes3D"
   ]
  },
  {
   "cell_type": "code",
   "execution_count": 2,
   "id": "88470891-6806-40d5-b8ac-1d9f8059de0d",
   "metadata": {},
   "outputs": [
    {
     "name": "stdout",
     "output_type": "stream",
     "text": [
      "Loaded data from /home/haqqeez/batch5/organized/ZHA029/PAL/dPAL/2021_12_13/15_12_06/Miniscope_2/ZHA029_2021_12_13_1512_deconv.csv\n"
     ]
    }
   ],
   "source": [
    "# Locate and load data\n",
    "data_directory = '/home/haqqeez/batch5/organized/ZHA029/PAL/dPAL/2021_12_13/'\n",
    "data_files = glob.glob(f'{data_directory}*/**/*deconv.csv')\n",
    "\n",
    "if len(data_files) > 1:\n",
    "    print('Error: Too many files found')\n",
    "elif len(data_files) == 0:\n",
    "    print('Error: File not found')\n",
    "else:\n",
    "    data_file = data_files[0]\n",
    "    data = pd.read_csv(data_file, index_col=0)\n",
    "    print(f'Loaded data from {data_file}')"
   ]
  },
  {
   "cell_type": "code",
   "execution_count": null,
   "id": "0eaeb20f-deff-4628-8280-8146dbfa558c",
   "metadata": {},
   "outputs": [
    {
     "name": "stdout",
     "output_type": "stream",
     "text": [
      "Number of combinations: 24\n",
      "Data Shape: 340 cells by 6076 frames\n"
     ]
    }
   ],
   "source": [
    "list_of_n_neighbors = [10,20,40,80]\n",
    "list_of_dist_metrics = ['cosine','euclidean']\n",
    "list_of_n_components = [2,3,6]\n",
    "\n",
    "# Generate all combinations of parameters\n",
    "parameter_combinations = list(itertools.product(list_of_n_neighbors, list_of_dist_metrics, list_of_n_components))\n",
    "print(f'Number of combinations: {len(list(parameter_combinations))}')\n",
    "\n",
    "troubleshoot_frames = None # number of frames to use for troubleshooting; None will use all frames\n",
    "downsample_factor = 15 # downsample factor for troubleshooting 1 = no downsampling, 2 = every other frame, 3 = every third frame, etc.\n",
    "\n",
    "# downsample for troubleshooting\n",
    "data_to_use = data.iloc[0:troubleshoot_frames, :].values # use only the first 5000 frames for troubleshooting\n",
    "data_to_use = data_to_use[::downsample_factor, :] # downsample data\n",
    "\n",
    "print(f'Data Shape: {data_to_use.shape[1]} cells by {data_to_use.shape[0]} frames')"
   ]
  },
  {
   "cell_type": "code",
   "execution_count": null,
   "id": "c00aab39-342c-41ee-9070-e0f63f074df8",
   "metadata": {},
   "outputs": [
    {
     "name": "stdout",
     "output_type": "stream",
     "text": [
      "Running ISOMAP with n_neighbors=10, dist_metric=cosine, n_components=2\n",
      "Analysis took 30.57 seconds (0.51 minutes)\n",
      "Running ISOMAP with n_neighbors=10, dist_metric=cosine, n_components=3\n",
      "Analysis took 30.84 seconds (0.51 minutes)\n",
      "Running ISOMAP with n_neighbors=10, dist_metric=cosine, n_components=6\n",
      "Analysis took 31.24 seconds (0.52 minutes)\n",
      "Running ISOMAP with n_neighbors=10, dist_metric=euclidean, n_components=2\n",
      "Analysis took 28.86 seconds (0.48 minutes)\n",
      "Running ISOMAP with n_neighbors=10, dist_metric=euclidean, n_components=3\n",
      "Analysis took 28.60 seconds (0.48 minutes)\n",
      "Running ISOMAP with n_neighbors=10, dist_metric=euclidean, n_components=6\n",
      "Analysis took 28.78 seconds (0.48 minutes)\n",
      "Running ISOMAP with n_neighbors=20, dist_metric=cosine, n_components=2\n",
      "Analysis took 39.35 seconds (0.66 minutes)\n",
      "Running ISOMAP with n_neighbors=20, dist_metric=cosine, n_components=3\n",
      "Analysis took 39.30 seconds (0.66 minutes)\n",
      "Running ISOMAP with n_neighbors=20, dist_metric=cosine, n_components=6\n",
      "Analysis took 39.43 seconds (0.66 minutes)\n",
      "Running ISOMAP with n_neighbors=20, dist_metric=euclidean, n_components=2\n",
      "Analysis took 34.10 seconds (0.57 minutes)\n",
      "Running ISOMAP with n_neighbors=20, dist_metric=euclidean, n_components=3\n",
      "Analysis took 34.13 seconds (0.57 minutes)\n",
      "Running ISOMAP with n_neighbors=20, dist_metric=euclidean, n_components=6\n",
      "Analysis took 34.43 seconds (0.57 minutes)\n",
      "Running ISOMAP with n_neighbors=40, dist_metric=cosine, n_components=2\n",
      "Analysis took 54.91 seconds (0.92 minutes)\n",
      "Running ISOMAP with n_neighbors=40, dist_metric=cosine, n_components=3\n",
      "Analysis took 54.72 seconds (0.91 minutes)\n",
      "Running ISOMAP with n_neighbors=40, dist_metric=cosine, n_components=6\n",
      "Analysis took 54.95 seconds (0.92 minutes)\n",
      "Running ISOMAP with n_neighbors=40, dist_metric=euclidean, n_components=2\n",
      "Analysis took 42.58 seconds (0.71 minutes)\n",
      "Running ISOMAP with n_neighbors=40, dist_metric=euclidean, n_components=3\n",
      "Analysis took 42.41 seconds (0.71 minutes)\n",
      "Running ISOMAP with n_neighbors=40, dist_metric=euclidean, n_components=6\n",
      "Analysis took 42.72 seconds (0.71 minutes)\n",
      "Running ISOMAP with n_neighbors=80, dist_metric=cosine, n_components=2\n",
      "Analysis took 84.92 seconds (1.42 minutes)\n",
      "Running ISOMAP with n_neighbors=80, dist_metric=cosine, n_components=3\n",
      "Analysis took 84.94 seconds (1.42 minutes)\n",
      "Running ISOMAP with n_neighbors=80, dist_metric=cosine, n_components=6\n",
      "Analysis took 85.03 seconds (1.42 minutes)\n",
      "Running ISOMAP with n_neighbors=80, dist_metric=euclidean, n_components=2\n",
      "Analysis took 58.90 seconds (0.98 minutes)\n",
      "Running ISOMAP with n_neighbors=80, dist_metric=euclidean, n_components=3\n",
      "Analysis took 58.50 seconds (0.98 minutes)\n",
      "Running ISOMAP with n_neighbors=80, dist_metric=euclidean, n_components=6\n",
      "Analysis took 58.87 seconds (0.98 minutes)\n"
     ]
    }
   ],
   "source": [
    "results = []\n",
    "\n",
    "for n_neighbors, dist_metric, n_components in parameter_combinations:\n",
    "    print(f'Running ISOMAP with n_neighbors={n_neighbors}, dist_metric={dist_metric}, n_components={n_components}')\n",
    "\n",
    "    analysis_start_time = time.time()\n",
    "\n",
    "    # Get embeddings\n",
    "    reducer = Isomap(n_neighbors=n_neighbors, n_components=n_components, metric=dist_metric)\n",
    "    fit = reducer.fit(data_to_use)\n",
    "    embeddings = fit.transform(data_to_use)\n",
    "\n",
    "    analysis_end_time = time.time()\n",
    "    time_taken = analysis_end_time - analysis_start_time\n",
    "    print(f'Analysis took {time_taken:.2f} seconds ({time_taken/60:.2f} minutes)')\n",
    "    results.append((n_neighbors, dist_metric, n_components, time_taken))\n",
    "\n",
    "    # Make plots based on the number of components\n",
    "    if n_components == 2:\n",
    "        fig, ax = plt.subplots()\n",
    "        ax.scatter(embeddings[:, 0], embeddings[:, 1], c='r', marker='o')\n",
    "        ax.set_xlabel('ISOMAP 1')\n",
    "        ax.set_ylabel('ISOMAP 2')\n",
    "        plt.title(f'ISOMAP n_neighbors={n_neighbors}, dist_metric={dist_metric}, n_components={n_components}')\n",
    "        plt.show()\n",
    "    elif n_components == 3:\n",
    "        fig = plt.figure()\n",
    "        ax = fig.add_subplot(111, projection='3d')\n",
    "        ax.scatter(embeddings[:, 0], embeddings[:, 1], embeddings[:, 2], c='r', marker='o')\n",
    "        ax.set_xlabel('ISOMAP 1')\n",
    "        ax.set_ylabel('ISOMAP 2')\n",
    "        ax.set_zlabel('ISOMAP 3')\n",
    "        plt.title(f'ISOMAP n_neighbors={n_neighbors}, dist_metric={dist_metric}, n_components={n_components}')\n",
    "        plt.show()\n",
    "    else:\n",
    "        fig, axes = plt.subplots(n_components - 1, n_components - 1, figsize=(15, 15))\n",
    "        for i in range(n_components):\n",
    "            for j in range(i + 1, n_components):\n",
    "                ax = axes[i, j - 1] if n_components > 2 else axes\n",
    "                ax.scatter(embeddings[:, i], embeddings[:, j], c='r', marker='o')\n",
    "                ax.set_xlabel(f'ISOMAP {i + 1}')\n",
    "                ax.set_ylabel(f'ISOMAP {j + 1}')\n",
    "        plt.suptitle(f'ISOMAP n_neighbors={n_neighbors}, dist_metric={dist_metric}, n_components={n_components}')\n",
    "        plt.show()"
   ]
  },
  {
   "cell_type": "code",
   "execution_count": 17,
   "id": "b494974f-70b2-4707-b94e-7ecaf6317e4b",
   "metadata": {},
   "outputs": [
    {
     "name": "stdout",
     "output_type": "stream",
     "text": [
      "\n",
      "Summary of analysis times:\n",
      "n_neighbors=10, dist_metric=cosine, n_components=2: 30.57 seconds (0.51 minutes)\n",
      "n_neighbors=10, dist_metric=cosine, n_components=3: 30.84 seconds (0.51 minutes)\n",
      "n_neighbors=10, dist_metric=cosine, n_components=6: 31.24 seconds (0.52 minutes)\n",
      "n_neighbors=10, dist_metric=euclidean, n_components=2: 28.86 seconds (0.48 minutes)\n",
      "n_neighbors=10, dist_metric=euclidean, n_components=3: 28.60 seconds (0.48 minutes)\n",
      "n_neighbors=10, dist_metric=euclidean, n_components=6: 28.78 seconds (0.48 minutes)\n",
      "n_neighbors=20, dist_metric=cosine, n_components=2: 39.35 seconds (0.66 minutes)\n",
      "n_neighbors=20, dist_metric=cosine, n_components=3: 39.30 seconds (0.66 minutes)\n",
      "n_neighbors=20, dist_metric=cosine, n_components=6: 39.43 seconds (0.66 minutes)\n",
      "n_neighbors=20, dist_metric=euclidean, n_components=2: 34.10 seconds (0.57 minutes)\n",
      "n_neighbors=20, dist_metric=euclidean, n_components=3: 34.13 seconds (0.57 minutes)\n",
      "n_neighbors=20, dist_metric=euclidean, n_components=6: 34.43 seconds (0.57 minutes)\n",
      "n_neighbors=40, dist_metric=cosine, n_components=2: 54.91 seconds (0.92 minutes)\n",
      "n_neighbors=40, dist_metric=cosine, n_components=3: 54.72 seconds (0.91 minutes)\n",
      "n_neighbors=40, dist_metric=cosine, n_components=6: 54.95 seconds (0.92 minutes)\n",
      "n_neighbors=40, dist_metric=euclidean, n_components=2: 42.58 seconds (0.71 minutes)\n",
      "n_neighbors=40, dist_metric=euclidean, n_components=3: 42.41 seconds (0.71 minutes)\n",
      "n_neighbors=40, dist_metric=euclidean, n_components=6: 42.72 seconds (0.71 minutes)\n",
      "n_neighbors=80, dist_metric=cosine, n_components=2: 84.92 seconds (1.42 minutes)\n",
      "n_neighbors=80, dist_metric=cosine, n_components=3: 84.94 seconds (1.42 minutes)\n",
      "n_neighbors=80, dist_metric=cosine, n_components=6: 85.03 seconds (1.42 minutes)\n",
      "n_neighbors=80, dist_metric=euclidean, n_components=2: 58.90 seconds (0.98 minutes)\n",
      "n_neighbors=80, dist_metric=euclidean, n_components=3: 58.50 seconds (0.98 minutes)\n",
      "n_neighbors=80, dist_metric=euclidean, n_components=6: 58.87 seconds (0.98 minutes)\n",
      "\n",
      "Fastest run: n_neighbors=10, dist_metric=euclidean, n_components=3: 28.60 seconds (0.48 minutes)\n",
      "\n",
      "Slowest run: n_neighbors=80, dist_metric=cosine, n_components=6: 85.03 seconds (1.42 minutes)\n"
     ]
    }
   ],
   "source": [
    "# Print summary\n",
    "print(\"\\nSummary of analysis times:\")\n",
    "for n_neighbors, dist_metric, n_components, time_taken in results:\n",
    "    print(f'n_neighbors={n_neighbors}, dist_metric={dist_metric}, n_components={n_components}: {time_taken:.2f} seconds ({time_taken/60:.2f} minutes)')\n",
    "\n",
    "# print best results\n",
    "fast_result = min(results, key=lambda x: x[3])\n",
    "print(f'\\nFastest run: n_neighbors={fast_result[0]}, dist_metric={fast_result[1]}, n_components={fast_result[2]}: {fast_result[3]:.2f} seconds ({fast_result[3]/60:.2f} minutes)')\n",
    "\n",
    "# print slowest results\n",
    "slow_result = max(results, key=lambda x: x[3])\n",
    "print(f'\\nSlowest run: n_neighbors={slow_result[0]}, dist_metric={slow_result[1]}, n_components={slow_result[2]}: {slow_result[3]:.2f} seconds ({slow_result[3]/60:.2f} minutes)')"
   ]
  },
  {
   "cell_type": "code",
   "execution_count": null,
   "id": "8ac5c3be-acb9-4f0d-84c4-2362fdd10c00",
   "metadata": {},
   "outputs": [],
   "source": []
  },
  {
   "cell_type": "code",
   "execution_count": null,
   "id": "f7dd4809-d32d-4560-8135-871e7935d57f",
   "metadata": {},
   "outputs": [],
   "source": []
  },
  {
   "cell_type": "code",
   "execution_count": null,
   "id": "cb7633c6-9139-4d2d-9e8f-9ec18f866b9b",
   "metadata": {},
   "outputs": [],
   "source": []
  },
  {
   "cell_type": "code",
   "execution_count": null,
   "id": "db76133f-14de-4a09-861c-89ad9c8f32ec",
   "metadata": {},
   "outputs": [],
   "source": []
  }
 ],
 "metadata": {
  "kernelspec": {
   "display_name": "Python 3 (ipykernel)",
   "language": "python",
   "name": "python3"
  },
  "language_info": {
   "codemirror_mode": {
    "name": "ipython",
    "version": 3
   },
   "file_extension": ".py",
   "mimetype": "text/x-python",
   "name": "python",
   "nbconvert_exporter": "python",
   "pygments_lexer": "ipython3",
   "version": "3.10.2"
  }
 },
 "nbformat": 4,
 "nbformat_minor": 5
}
